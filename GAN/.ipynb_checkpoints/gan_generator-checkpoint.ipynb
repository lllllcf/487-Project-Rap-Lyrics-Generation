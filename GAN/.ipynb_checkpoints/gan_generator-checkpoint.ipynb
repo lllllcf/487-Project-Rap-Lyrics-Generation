{
 "cells": [
  {
   "cell_type": "code",
   "execution_count": 1,
   "metadata": {},
   "outputs": [],
   "source": [
    "import copy\n",
    "import os\n",
    "import json\n",
    "from torch.utils.data import DataLoader"
   ]
  },
  {
   "cell_type": "code",
   "execution_count": 2,
   "metadata": {
    "pycharm": {
     "name": "#%%\n"
    }
   },
   "outputs": [],
   "source": [
    "with open(os.path.join('../data/data_lyrics.json'), 'r') as fp:\n",
    "    lyrics_data = json.load(fp)\n",
    "with open(os.path.join('../data/data_news.json'), 'r') as fp:\n",
    "    news_data = json.load(fp)\n",
    "with open(os.path.join('../data/data_rap.json'), 'r') as fp:\n",
    "    raw_rap_data = json.load(fp)"
   ]
  },
  {
   "cell_type": "code",
   "execution_count": 3,
   "metadata": {
    "pycharm": {
     "name": "#%%\n"
    }
   },
   "outputs": [],
   "source": [
    "from data_utils import add_some_music, gen_pre_data_preprocession, add_some_news, dis_pre_data_preprocession, get_dev_data\n",
    "\n",
    "gen_percentage = 0.7\n",
    "music_percentage = 0.1\n",
    "gen_clean_control = {'lemmatize': True, 'stop_words': True, 'remove_number': True,}\n",
    "\n",
    "# generator data preprocessing\n",
    "rap_music = add_some_music(raw_rap_data, lyrics_data, music_percentage)\n",
    "final_train, gen_pre, dis_rap_raw = gen_pre_data_preprocession(rap_music, gen_percentage, gen_clean_control)\n",
    "\n",
    "# discriminator data preprocessing\n",
    "rap_news = add_some_news(dis_rap_raw, news_data)\n",
    "dis_pre = dis_pre_data_preprocession(rap_news)\n",
    "\n",
    "# get validation data\n",
    "pre_dev_percentage = 0.1\n",
    "gen_pre, gen_pre_dev = get_dev_data(gen_pre, pre_dev_percentage)\n",
    "dis_pre, dis_pre_dev = get_dev_data(dis_pre, pre_dev_percentage)"
   ]
  },
  {
   "cell_type": "code",
   "execution_count": 4,
   "metadata": {
    "pycharm": {
     "name": "#%%\n"
    }
   },
   "outputs": [],
   "source": [
    "from sentence_transformers import SentenceTransformer\n",
    "sen_embed = SentenceTransformer('bert-base-nli-mean-tokens')"
   ]
  },
  {
   "cell_type": "code",
   "execution_count": 5,
   "metadata": {
    "pycharm": {
     "name": "#%%\n"
    }
   },
   "outputs": [
    {
     "name": "stdout",
     "output_type": "stream",
     "text": [
      "{'pre_train_epochs': 30, 'batch_size': 256, 'sequence_length': 5}\n",
      "{'pre_train_epochs': 30, 'batch_size': 256, 'sequence_length': 5}\n",
      "{'pre_train_epochs': 30, 'batch_size': 256, 'sequence_length': 5}\n"
     ]
    }
   ],
   "source": [
    "from dataset import GENDataset, DISDataset, basic_collate_fn\n",
    "import argparse\n",
    "\n",
    "# parser = argparse.ArgumentParser()\n",
    "# parser.add_argument('--pre-train-epochs', type=int, default=30)\n",
    "# parser.add_argument('--batch-size', type=int, default=256)\n",
    "# parser.add_argument('--sequence-length', type=int, default=5)\n",
    "# gen_args = parser.parse_args()\n",
    "\n",
    "gen_args = {\"pre_train_epochs\": 30, \"batch_size\": 256, \"sequence_length\": 5}\n",
    "\n",
    "# new_parser = argparse.ArgumentParser()\n",
    "# new_parser.add_argument('--pre-train-epochs', type=int, default=30)\n",
    "# dis_args = new_parser.parse_args()\n",
    "\n",
    "dis_args = {\"pre_train_epochs\": 30}\n",
    "\n",
    "dis_batch_size = 32\n",
    "\n",
    "gen_pre_data = GENDataset(gen_args, gen_pre)\n",
    "gen_pre_dev_data = GENDataset(gen_args, gen_pre_dev)\n",
    "final_train_data = GENDataset(gen_args, final_train)\n",
    "\n",
    "dis_pre_data = DISDataset(dis_pre, sen_embed)\n",
    "dis_pre_dev_data = DISDataset(dis_pre_dev, sen_embed)\n",
    "\n",
    "gen_dataloader = DataLoader(gen_pre_data, batch_size=gen_args[\"batch_size\"])\n",
    "gen_dev_loader = DataLoader(gen_pre_dev_data, batch_size=gen_args[\"batch_size\"])\n",
    "final_loader = DataLoader(final_train_data, batch_size=gen_args[\"batch_size\"])\n",
    "\n",
    "dis_dataloader = DataLoader(dis_pre_data, batch_size=dis_batch_size, collate_fn=basic_collate_fn, shuffle=True)\n",
    "dis_dev_loader = DataLoader(dis_pre_dev_data, batch_size=gen_args[\"batch_size\"])"
   ]
  },
  {
   "cell_type": "code",
   "execution_count": 6,
   "metadata": {
    "pycharm": {
     "name": "#%%\n"
    }
   },
   "outputs": [],
   "source": [
    "from model.generator import Generator\n",
    "from model.discriminator import Discriminator\n",
    "\n",
    "lstm_input_size, num_layers, lstm_hidden_dim, dropout = 128, 2, 32, 0.1\n",
    "dis_hidden_dim = 1024\n",
    "\n",
    "generator = Generator(gen_pre_data, lstm_input_size, num_layers, lstm_hidden_dim, dropout)\n",
    "discriminator = Discriminator(dis_hidden_dim)"
   ]
  },
  {
   "cell_type": "code",
   "execution_count": 7,
   "metadata": {
    "pycharm": {
     "name": "#%%\n"
    }
   },
   "outputs": [
    {
     "ename": "ValueError",
     "evalue": "Target size (torch.Size([256, 5])) must be the same as input size (torch.Size([256, 25973, 5]))",
     "output_type": "error",
     "traceback": [
      "\u001b[1;31m---------------------------------------------------------------------------\u001b[0m",
      "\u001b[1;31mValueError\u001b[0m                                Traceback (most recent call last)",
      "\u001b[1;32mC:\\Users\\CHENGF~1\\AppData\\Local\\Temp/ipykernel_16680/2777898149.py\u001b[0m in \u001b[0;36m<module>\u001b[1;34m\u001b[0m\n\u001b[0;32m     10\u001b[0m \u001b[0md_lr\u001b[0m\u001b[1;33m,\u001b[0m \u001b[0md_weight_decay\u001b[0m \u001b[1;33m=\u001b[0m \u001b[1;36m0.001\u001b[0m\u001b[1;33m,\u001b[0m \u001b[1;36m0.00001\u001b[0m\u001b[1;33m\u001b[0m\u001b[1;33m\u001b[0m\u001b[0m\n\u001b[0;32m     11\u001b[0m \u001b[1;33m\u001b[0m\u001b[0m\n\u001b[1;32m---> 12\u001b[1;33m \u001b[0mgenerator\u001b[0m \u001b[1;33m=\u001b[0m \u001b[0mpre_train_generator\u001b[0m\u001b[1;33m(\u001b[0m\u001b[0mgen_args\u001b[0m\u001b[1;33m,\u001b[0m \u001b[0mgenerator\u001b[0m\u001b[1;33m,\u001b[0m \u001b[0mgen_dataloader\u001b[0m\u001b[1;33m,\u001b[0m \u001b[0mgen_dev_loader\u001b[0m\u001b[1;33m,\u001b[0m \u001b[0mgen_loss_type\u001b[0m\u001b[1;33m,\u001b[0m \u001b[0mgen_optim_type\u001b[0m\u001b[1;33m,\u001b[0m \u001b[0mg_lr\u001b[0m\u001b[1;33m,\u001b[0m \u001b[0mg_weight_decay\u001b[0m\u001b[1;33m,\u001b[0m \u001b[0mpre_patience\u001b[0m\u001b[1;33m,\u001b[0m \u001b[0mdevice\u001b[0m\u001b[1;33m)\u001b[0m\u001b[1;33m\u001b[0m\u001b[1;33m\u001b[0m\u001b[0m\n\u001b[0m\u001b[0;32m     13\u001b[0m \u001b[0mdiscriminator\u001b[0m \u001b[1;33m=\u001b[0m \u001b[0mpre_train_discriminator\u001b[0m\u001b[1;33m(\u001b[0m\u001b[0mdis_args\u001b[0m\u001b[1;33m,\u001b[0m \u001b[0mdiscriminator\u001b[0m\u001b[1;33m,\u001b[0m \u001b[0mdis_dataloader\u001b[0m\u001b[1;33m,\u001b[0m \u001b[0mdis_dev_loader\u001b[0m\u001b[1;33m,\u001b[0m \u001b[0mdis_loss_type\u001b[0m\u001b[1;33m,\u001b[0m \u001b[0mdis_optim_type\u001b[0m\u001b[1;33m,\u001b[0m \u001b[0md_lr\u001b[0m\u001b[1;33m,\u001b[0m \u001b[0md_weight_decay\u001b[0m\u001b[1;33m,\u001b[0m \u001b[0mpre_patience\u001b[0m\u001b[1;33m,\u001b[0m \u001b[0mdevice\u001b[0m\u001b[1;33m)\u001b[0m\u001b[1;33m\u001b[0m\u001b[1;33m\u001b[0m\u001b[0m\n",
      "\u001b[1;32m~\\Desktop\\487-Project-Rap-Lyrics-Generation\\GAN\\train.py\u001b[0m in \u001b[0;36mpre_train_generator\u001b[1;34m(args, model, dataloader, val_loader, loss_type, optim_type, lr, weight_decay, patience, device)\u001b[0m\n\u001b[0;32m     58\u001b[0m \u001b[1;33m\u001b[0m\u001b[0m\n\u001b[0;32m     59\u001b[0m             \u001b[0my_pred\u001b[0m\u001b[1;33m,\u001b[0m \u001b[1;33m(\u001b[0m\u001b[0mstate_h\u001b[0m\u001b[1;33m,\u001b[0m \u001b[0mstate_c\u001b[0m\u001b[1;33m)\u001b[0m \u001b[1;33m=\u001b[0m \u001b[0mmodel\u001b[0m\u001b[1;33m(\u001b[0m\u001b[0mx\u001b[0m\u001b[1;33m,\u001b[0m \u001b[1;33m(\u001b[0m\u001b[0mstate_h\u001b[0m\u001b[1;33m,\u001b[0m \u001b[0mstate_c\u001b[0m\u001b[1;33m)\u001b[0m\u001b[1;33m)\u001b[0m\u001b[1;33m\u001b[0m\u001b[1;33m\u001b[0m\u001b[0m\n\u001b[1;32m---> 60\u001b[1;33m             \u001b[0mloss\u001b[0m \u001b[1;33m=\u001b[0m \u001b[0mloss_fn\u001b[0m\u001b[1;33m(\u001b[0m\u001b[0my_pred\u001b[0m\u001b[1;33m.\u001b[0m\u001b[0mtranspose\u001b[0m\u001b[1;33m(\u001b[0m\u001b[1;36m1\u001b[0m\u001b[1;33m,\u001b[0m \u001b[1;36m2\u001b[0m\u001b[1;33m)\u001b[0m\u001b[1;33m,\u001b[0m \u001b[0my\u001b[0m\u001b[1;33m)\u001b[0m\u001b[1;33m\u001b[0m\u001b[1;33m\u001b[0m\u001b[0m\n\u001b[0m\u001b[0;32m     61\u001b[0m \u001b[1;33m\u001b[0m\u001b[0m\n\u001b[0;32m     62\u001b[0m             \u001b[0mstate_h\u001b[0m \u001b[1;33m=\u001b[0m \u001b[0mstate_h\u001b[0m\u001b[1;33m.\u001b[0m\u001b[0mdetach\u001b[0m\u001b[1;33m(\u001b[0m\u001b[1;33m)\u001b[0m\u001b[1;33m\u001b[0m\u001b[1;33m\u001b[0m\u001b[0m\n",
      "\u001b[1;32m~\\anaconda3\\lib\\site-packages\\torch\\nn\\modules\\module.py\u001b[0m in \u001b[0;36m_call_impl\u001b[1;34m(self, *input, **kwargs)\u001b[0m\n\u001b[0;32m   1108\u001b[0m         if not (self._backward_hooks or self._forward_hooks or self._forward_pre_hooks or _global_backward_hooks\n\u001b[0;32m   1109\u001b[0m                 or _global_forward_hooks or _global_forward_pre_hooks):\n\u001b[1;32m-> 1110\u001b[1;33m             \u001b[1;32mreturn\u001b[0m \u001b[0mforward_call\u001b[0m\u001b[1;33m(\u001b[0m\u001b[1;33m*\u001b[0m\u001b[0minput\u001b[0m\u001b[1;33m,\u001b[0m \u001b[1;33m**\u001b[0m\u001b[0mkwargs\u001b[0m\u001b[1;33m)\u001b[0m\u001b[1;33m\u001b[0m\u001b[1;33m\u001b[0m\u001b[0m\n\u001b[0m\u001b[0;32m   1111\u001b[0m         \u001b[1;31m# Do not call functions when jit is used\u001b[0m\u001b[1;33m\u001b[0m\u001b[1;33m\u001b[0m\u001b[0m\n\u001b[0;32m   1112\u001b[0m         \u001b[0mfull_backward_hooks\u001b[0m\u001b[1;33m,\u001b[0m \u001b[0mnon_full_backward_hooks\u001b[0m \u001b[1;33m=\u001b[0m \u001b[1;33m[\u001b[0m\u001b[1;33m]\u001b[0m\u001b[1;33m,\u001b[0m \u001b[1;33m[\u001b[0m\u001b[1;33m]\u001b[0m\u001b[1;33m\u001b[0m\u001b[1;33m\u001b[0m\u001b[0m\n",
      "\u001b[1;32m~\\anaconda3\\lib\\site-packages\\torch\\nn\\modules\\loss.py\u001b[0m in \u001b[0;36mforward\u001b[1;34m(self, input, target)\u001b[0m\n\u001b[0;32m    711\u001b[0m \u001b[1;33m\u001b[0m\u001b[0m\n\u001b[0;32m    712\u001b[0m     \u001b[1;32mdef\u001b[0m \u001b[0mforward\u001b[0m\u001b[1;33m(\u001b[0m\u001b[0mself\u001b[0m\u001b[1;33m,\u001b[0m \u001b[0minput\u001b[0m\u001b[1;33m:\u001b[0m \u001b[0mTensor\u001b[0m\u001b[1;33m,\u001b[0m \u001b[0mtarget\u001b[0m\u001b[1;33m:\u001b[0m \u001b[0mTensor\u001b[0m\u001b[1;33m)\u001b[0m \u001b[1;33m->\u001b[0m \u001b[0mTensor\u001b[0m\u001b[1;33m:\u001b[0m\u001b[1;33m\u001b[0m\u001b[1;33m\u001b[0m\u001b[0m\n\u001b[1;32m--> 713\u001b[1;33m         return F.binary_cross_entropy_with_logits(input, target,\n\u001b[0m\u001b[0;32m    714\u001b[0m                                                   \u001b[0mself\u001b[0m\u001b[1;33m.\u001b[0m\u001b[0mweight\u001b[0m\u001b[1;33m,\u001b[0m\u001b[1;33m\u001b[0m\u001b[1;33m\u001b[0m\u001b[0m\n\u001b[0;32m    715\u001b[0m                                                   \u001b[0mpos_weight\u001b[0m\u001b[1;33m=\u001b[0m\u001b[0mself\u001b[0m\u001b[1;33m.\u001b[0m\u001b[0mpos_weight\u001b[0m\u001b[1;33m,\u001b[0m\u001b[1;33m\u001b[0m\u001b[1;33m\u001b[0m\u001b[0m\n",
      "\u001b[1;32m~\\anaconda3\\lib\\site-packages\\torch\\nn\\functional.py\u001b[0m in \u001b[0;36mbinary_cross_entropy_with_logits\u001b[1;34m(input, target, weight, size_average, reduce, reduction, pos_weight)\u001b[0m\n\u001b[0;32m   3128\u001b[0m \u001b[1;33m\u001b[0m\u001b[0m\n\u001b[0;32m   3129\u001b[0m     \u001b[1;32mif\u001b[0m \u001b[1;32mnot\u001b[0m \u001b[1;33m(\u001b[0m\u001b[0mtarget\u001b[0m\u001b[1;33m.\u001b[0m\u001b[0msize\u001b[0m\u001b[1;33m(\u001b[0m\u001b[1;33m)\u001b[0m \u001b[1;33m==\u001b[0m \u001b[0minput\u001b[0m\u001b[1;33m.\u001b[0m\u001b[0msize\u001b[0m\u001b[1;33m(\u001b[0m\u001b[1;33m)\u001b[0m\u001b[1;33m)\u001b[0m\u001b[1;33m:\u001b[0m\u001b[1;33m\u001b[0m\u001b[1;33m\u001b[0m\u001b[0m\n\u001b[1;32m-> 3130\u001b[1;33m         \u001b[1;32mraise\u001b[0m \u001b[0mValueError\u001b[0m\u001b[1;33m(\u001b[0m\u001b[1;34m\"Target size ({}) must be the same as input size ({})\"\u001b[0m\u001b[1;33m.\u001b[0m\u001b[0mformat\u001b[0m\u001b[1;33m(\u001b[0m\u001b[0mtarget\u001b[0m\u001b[1;33m.\u001b[0m\u001b[0msize\u001b[0m\u001b[1;33m(\u001b[0m\u001b[1;33m)\u001b[0m\u001b[1;33m,\u001b[0m \u001b[0minput\u001b[0m\u001b[1;33m.\u001b[0m\u001b[0msize\u001b[0m\u001b[1;33m(\u001b[0m\u001b[1;33m)\u001b[0m\u001b[1;33m)\u001b[0m\u001b[1;33m)\u001b[0m\u001b[1;33m\u001b[0m\u001b[1;33m\u001b[0m\u001b[0m\n\u001b[0m\u001b[0;32m   3131\u001b[0m \u001b[1;33m\u001b[0m\u001b[0m\n\u001b[0;32m   3132\u001b[0m     \u001b[1;32mreturn\u001b[0m \u001b[0mtorch\u001b[0m\u001b[1;33m.\u001b[0m\u001b[0mbinary_cross_entropy_with_logits\u001b[0m\u001b[1;33m(\u001b[0m\u001b[0minput\u001b[0m\u001b[1;33m,\u001b[0m \u001b[0mtarget\u001b[0m\u001b[1;33m,\u001b[0m \u001b[0mweight\u001b[0m\u001b[1;33m,\u001b[0m \u001b[0mpos_weight\u001b[0m\u001b[1;33m,\u001b[0m \u001b[0mreduction_enum\u001b[0m\u001b[1;33m)\u001b[0m\u001b[1;33m\u001b[0m\u001b[1;33m\u001b[0m\u001b[0m\n",
      "\u001b[1;31mValueError\u001b[0m: Target size (torch.Size([256, 5])) must be the same as input size (torch.Size([256, 25973, 5]))"
     ]
    }
   ],
   "source": [
    "from train import pre_train_generator, pre_train_discriminator\n",
    "\n",
    "device = 'cpu'\n",
    "pre_patience = 10\n",
    "\n",
    "gen_loss_type, gen_optim_type = 'bce', 'adam'\n",
    "g_lr, g_weight_decay = 0.001, 0.00001\n",
    "\n",
    "dis_loss_type, dis_optim_type = 'bce', 'adam'\n",
    "d_lr, d_weight_decay = 0.001, 0.00001\n",
    "\n",
    "generator = pre_train_generator(gen_args, generator, gen_dataloader, gen_dev_loader, gen_loss_type, gen_optim_type, g_lr, g_weight_decay, pre_patience, device)\n",
    "discriminator = pre_train_discriminator(dis_args, discriminator, dis_dataloader, dis_dev_loader, dis_loss_type, dis_optim_type, d_lr, d_weight_decay, pre_patience, device)"
   ]
  },
  {
   "cell_type": "code",
   "execution_count": null,
   "metadata": {
    "pycharm": {
     "name": "#%%\n"
    }
   },
   "outputs": [],
   "source": [
    "def get_hyper_parameters():\n",
    "    _g_para_list = [{\"optim_type\": 'adam', 'lr': 0.01, \"weight_deacy\": 1e-4}]\n",
    "    _d_para_list = [{\"optim_type\": 'adam', 'lr': 0.01, \"weight_deacy\": 1e-4}]\n",
    "    _num_epoch = 40\n",
    "    _patience = 10\n",
    "    _max_words = 10\n",
    "    _device = 'cpu'\n",
    "    return _g_para_list, _d_para_list, _num_epoch, _patience, _max_words, _device"
   ]
  },
  {
   "cell_type": "code",
   "execution_count": null,
   "metadata": {
    "pycharm": {
     "name": "#%%\n"
    }
   },
   "outputs": [],
   "source": [
    "import itertools\n",
    "from train import train_model\n",
    "from data_utils import plot_loss\n",
    "\n",
    "g_para_list, d_para_list, num_epoch, patience, max_words, device = get_hyper_parameters()\n",
    "\n",
    "# model training\n",
    "best_gen, best_dis, best_stats = None, None, None\n",
    "best_lr, best_wd, best_bs, best_hd, best_lt, best_om = 0, 0, 0, 0, '', ''\n",
    "best_dis_loss, best_gen_loss = 0, 100\n",
    "for g_para, d_para in itertools.product(g_para_list, d_para_list):\n",
    "    Generator, Discriminator, stats = train_model(Generator, Discriminator, final_loader, final_train_data, num_epoch, g_para, d_para, gen_dev_loader, patience, max_words, device)\n",
    "\n",
    "    # update best parameters if needed\n",
    "    if stats['dis_loss'] > best_dis_loss and stats['gen_loss'] < best_gen_loss:\n",
    "        best_dis_loss = stats['dis_loss']\n",
    "        best_gen_loss = stats['gen_loss']\n",
    "        best_gen, best_dis, best_stats = copy.deepcopy(Generator), copy.deepcopy(Discriminator) , copy.deepcopy(stats)\n",
    "        best_g_para, best_d_para = g_para, d_para\n",
    "\n",
    "    print(\"\\n\\nBest hidden dimension: {}, Best learning rate: {}, best weight_decay: {}, best batch_size: {}, best loss type： {}, best optimizer: {}\".format(\n",
    "    best_hd, best_lr, best_wd, best_bs, best_lt, best_om))\n",
    "print(\"Generator loss: {:.4f}\".format(best_gen_loss))\n",
    "print(\"Discriminator loss: {:.4f}\".format(best_dis_loss))\n",
    "plot_loss(best_stats)"
   ]
  },
  {
   "cell_type": "code",
   "execution_count": null,
   "metadata": {
    "pycharm": {
     "name": "#%%\n"
    }
   },
   "outputs": [],
   "source": [
    "from generate_rap import generate_rap\n",
    "\n",
    "sen_input = \"I build a castle\"\n",
    "num_sentences = 10\n",
    "max_words = 10\n",
    "\n",
    "lyrics = generate_rap(best_gen, sen_input, num_sentences, max_words, final_train_data)\n",
    "for sen in lyrics:\n",
    "    print(sen)"
   ]
  }
 ],
 "metadata": {
  "kernelspec": {
   "display_name": "Python 3 (ipykernel)",
   "language": "python",
   "name": "python3"
  },
  "language_info": {
   "codemirror_mode": {
    "name": "ipython",
    "version": 3
   },
   "file_extension": ".py",
   "mimetype": "text/x-python",
   "name": "python",
   "nbconvert_exporter": "python",
   "pygments_lexer": "ipython3",
   "version": "3.9.7"
  }
 },
 "nbformat": 4,
 "nbformat_minor": 1
}
